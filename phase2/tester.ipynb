{
 "cells": [
  {
   "cell_type": "code",
   "execution_count": 1,
   "metadata": {},
   "outputs": [],
   "source": [
    "import os\n",
    "import numpy as np\n",
    "from openai import AzureOpenAI\n",
    "from dotenv import load_dotenv, find_dotenv\n",
    "from sklearn.metrics.pairwise import cosine_similarity\n",
    "load_dotenv(find_dotenv())\n",
    "\n",
    "client = AzureOpenAI(\n",
    "    azure_endpoint='https://oai-lab-test-eastus-001.openai.azure.com/',\n",
    "    api_key=\"47221f36001a4b94839e3cea4365197f\",\n",
    "    api_version=\"2023-05-15\",\n",
    ")\n",
    "deployment_name = \"text-embedding-ada-002\""
   ]
  },
  {
   "cell_type": "code",
   "execution_count": 2,
   "metadata": {},
   "outputs": [],
   "source": [
    "def read_files_from_directory(directory_path):\n",
    "    \"\"\"\n",
    "    Read all text files from a directory\n",
    "    Returns a dictionary with filenames as keys and file contents as values\n",
    "    \"\"\"\n",
    "    file_contents = {}\n",
    "    \n",
    "    for filename in os.listdir(directory_path):\n",
    "        file_path = os.path.join(directory_path, filename)\n",
    "        if os.path.isfile(file_path):\n",
    "            try:\n",
    "                with open(file_path, 'r', encoding='utf-8') as file:\n",
    "                    file_contents[filename] = file.read()\n",
    "            except Exception as e:\n",
    "                print(f\"Error reading {filename}: {e}\")\n",
    "    \n",
    "    return file_contents"
   ]
  },
  {
   "cell_type": "code",
   "execution_count": 3,
   "metadata": {},
   "outputs": [],
   "source": [
    "def generate_embeddings(texts):\n",
    "    \"\"\"\n",
    "    Generate embeddings for a list of texts\n",
    "    Returns a dictionary mapping each text to its embedding vector\n",
    "    \"\"\"\n",
    "    embeddings = {}\n",
    "    \n",
    "    for key, text in texts.items():\n",
    "        try:\n",
    "            response = client.embeddings.create(\n",
    "                input=text,\n",
    "                model=deployment_name\n",
    "            )\n",
    "            embeddings[key] = response.data[0].embedding\n",
    "        except Exception as e:\n",
    "            print(f\"Error generating embedding for {key}: {e}\")\n",
    "    \n",
    "    return embeddings"
   ]
  },
  {
   "cell_type": "code",
   "execution_count": 4,
   "metadata": {},
   "outputs": [],
   "source": [
    "def find_similar_documents(query, file_embeddings, file_contents):\n",
    "    \"\"\"\n",
    "    Find documents similar to the query using cosine similarity\n",
    "    Returns sorted list of (filename, similarity_score) tuples\n",
    "    \"\"\"\n",
    "    # Generate embedding for the query\n",
    "    query_response = client.embeddings.create(\n",
    "        input=query,\n",
    "        model=deployment_name\n",
    "    )\n",
    "    query_embedding = query_response.data[0].embedding\n",
    "    \n",
    "    # Calculate cosine similarity with each document\n",
    "    similarities = {}\n",
    "    for filename, embedding in file_embeddings.items():\n",
    "        # Convert embeddings to numpy arrays for cosine similarity calculation\n",
    "        similarity = cosine_similarity(\n",
    "            [query_embedding],\n",
    "            [embedding]\n",
    "        )[0][0]\n",
    "        similarities[filename] = similarity\n",
    "    \n",
    "    # Sort by similarity score (highest first)\n",
    "    sorted_results = sorted(similarities.items(), key=lambda x: x[1], reverse=True)\n",
    "    return sorted_results"
   ]
  },
  {
   "cell_type": "code",
   "execution_count": 5,
   "metadata": {},
   "outputs": [],
   "source": [
    "def find_similar_documents(query, file_embeddings, num_results=5):\n",
    "    \"\"\"\n",
    "    Find documents similar to the query using cosine similarity\n",
    "    Returns sorted list of (filename, similarity_score) tuples\n",
    "    \"\"\"\n",
    "    # Generate embedding for the query\n",
    "    query_response = client.embeddings.create(\n",
    "        input=query,\n",
    "        model=deployment_name\n",
    "    )\n",
    "    query_embedding = query_response.data[0].embedding\n",
    "    \n",
    "    # Calculate cosine similarity with each document\n",
    "    similarities = {}\n",
    "    for filename, embedding in file_embeddings.items():\n",
    "        # Convert embeddings to numpy arrays for cosine similarity calculation\n",
    "        similarity = cosine_similarity(\n",
    "            [query_embedding],\n",
    "            [embedding]\n",
    "        )[0][0]\n",
    "        similarities[filename] = similarity\n",
    "    \n",
    "    # Sort by similarity score (highest first)\n",
    "    sorted_results = sorted(similarities.items(), key=lambda x: x[1], reverse=True)\n",
    "    \n",
    "    # Return the top num_results\n",
    "    return sorted_results[:num_results]"
   ]
  },
  {
   "cell_type": "code",
   "execution_count": 6,
   "metadata": {},
   "outputs": [
    {
     "name": "stdout",
     "output_type": "stream",
     "text": [
      "Reading files...\n",
      "Found 6 files\n",
      "Generating embeddings...\n",
      "Generated embeddings for 6 files\n",
      "Searching for documents similar to query: 'What discounts do I have for dental?'\n",
      "\n",
      "Search Results:\n",
      "dentel_services.html: Similarity score 0.7619\n",
      "alternative_services.html: Similarity score 0.7361\n",
      "workshops_services.html: Similarity score 0.7304\n"
     ]
    }
   ],
   "source": [
    "# Example usage\n",
    "# Set the directory path where your text files are located\n",
    "directory_path = \"../data/phase2_data\"  # Change this to your actual directory path\n",
    "\n",
    "# Read all files from the directory\n",
    "print(\"Reading files...\")\n",
    "file_contents = read_files_from_directory(directory_path)\n",
    "print(f\"Found {len(file_contents)} files\")\n",
    "\n",
    "# Generate embeddings for all files\n",
    "print(\"Generating embeddings...\")\n",
    "file_embeddings = generate_embeddings(file_contents)\n",
    "print(f\"Generated embeddings for {len(file_embeddings)} files\")\n",
    "\n",
    "# Perform a similarity search\n",
    "query = \"What discounts do I have for dental?\"  # Example query\n",
    "print(f\"Searching for documents similar to query: '{query}'\")\n",
    "results = find_similar_documents(query, file_embeddings, num_results=3)\n",
    "\n",
    "# Display results\n",
    "print(\"\\nSearch Results:\")\n",
    "for filename, score in results:\n",
    "    print(f\"{filename}: Similarity score {score:.4f}\")\n"
   ]
  }
 ],
 "metadata": {
  "kernelspec": {
   "display_name": "venv",
   "language": "python",
   "name": "python3"
  },
  "language_info": {
   "codemirror_mode": {
    "name": "ipython",
    "version": 3
   },
   "file_extension": ".py",
   "mimetype": "text/x-python",
   "name": "python",
   "nbconvert_exporter": "python",
   "pygments_lexer": "ipython3",
   "version": "3.12.5"
  }
 },
 "nbformat": 4,
 "nbformat_minor": 2
}
